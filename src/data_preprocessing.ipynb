{
 "cells": [
  {
   "cell_type": "code",
   "execution_count": 112,
   "metadata": {},
   "outputs": [
    {
     "name": "stderr",
     "output_type": "stream",
     "text": [
      "/var/folders/9_/yf7whgjn76l68s_n1hjflsmc0000gn/T/ipykernel_38118/1984935095.py:15: DtypeWarning: Columns (21) have mixed types. Specify dtype option on import or set low_memory=False.\n",
      "  df = pd.read_csv(\"../data/raw/DisasterDeclarationsSummaries.csv\")\n",
      "  0%|          | 2/2766 [00:23<9:11:28, 11.97s/it]\n"
     ]
    },
    {
     "ename": "KeyboardInterrupt",
     "evalue": "",
     "output_type": "error",
     "traceback": [
      "\u001b[0;31m---------------------------------------------------------------------------\u001b[0m",
      "\u001b[0;31mKeyboardInterrupt\u001b[0m                         Traceback (most recent call last)",
      "Cell \u001b[0;32mIn[112], line 67\u001b[0m\n\u001b[1;32m     62\u001b[0m         \u001b[38;5;28;01mif\u001b[39;00m value \u001b[38;5;129;01mis\u001b[39;00m \u001b[38;5;129;01mnot\u001b[39;00m \u001b[38;5;28;01mNone\u001b[39;00m:\n\u001b[1;32m     63\u001b[0m             records\u001b[38;5;241m.\u001b[39mappend({\n\u001b[1;32m     64\u001b[0m                 \u001b[38;5;124m\"\u001b[39m\u001b[38;5;124myear\u001b[39m\u001b[38;5;124m\"\u001b[39m: \u001b[38;5;28mint\u001b[39m(year[\u001b[38;5;241m0\u001b[39m:\u001b[38;5;241m4\u001b[39m]),\n\u001b[1;32m     65\u001b[0m                 \u001b[38;5;124m\"\u001b[39m\u001b[38;5;124mvalue\u001b[39m\u001b[38;5;124m\"\u001b[39m: \u001b[38;5;28mfloat\u001b[39m(value)\n\u001b[1;32m     66\u001b[0m             })\n\u001b[0;32m---> 67\u001b[0m             \u001b[43mtime\u001b[49m\u001b[38;5;241;43m.\u001b[39;49m\u001b[43msleep\u001b[49m\u001b[43m(\u001b[49m\u001b[38;5;241;43m0.05\u001b[39;49m\u001b[43m)\u001b[49m\n\u001b[1;32m     70\u001b[0m \u001b[38;5;28;01mwith\u001b[39;00m \u001b[38;5;28mopen\u001b[39m(\u001b[38;5;124m\"\u001b[39m\u001b[38;5;124mcounty_temperature_data.json\u001b[39m\u001b[38;5;124m\"\u001b[39m, \u001b[38;5;124m\"\u001b[39m\u001b[38;5;124mw\u001b[39m\u001b[38;5;124m\"\u001b[39m) \u001b[38;5;28;01mas\u001b[39;00m f:\n\u001b[1;32m     71\u001b[0m     json\u001b[38;5;241m.\u001b[39mdump(records, f, indent\u001b[38;5;241m=\u001b[39m\u001b[38;5;241m2\u001b[39m)\n",
      "\u001b[0;31mKeyboardInterrupt\u001b[0m: "
     ]
    }
   ],
   "source": [
    "import geopandas as gpd\n",
    "import pandas as pd\n",
    "import json\n",
    "import requests\n",
    "import time\n",
    "from tqdm import tqdm\n",
    "\n",
    "# load county shapefiles\n",
    "\n",
    "shapefile_path = '../data/raw/tl_2024_us_county/tl_2024_us_county.shp'\n",
    "counties = gpd.read_file(shapefile_path)\n",
    "counties = counties.to_crs(epsg=4326)\n",
    "\n",
    "# load disaster declarations\n",
    "df = pd.read_csv(\"../data/raw/DisasterDeclarationsSummaries.csv\")\n",
    "\n",
    "df[\"GEOID\"] = df[\"fipsStateCode\"].astype(str).str.zfill(2) + df[\"fipsCountyCode\"].astype(str).str.zfill(3)\n",
    "\n",
    "GEOIDS = \"../data/cleaned/county_disaster_counts_by_year.json\"\n",
    "\n",
    "NUM2ABR = \"../data/raw/num2abr.txt\"\n",
    "\n",
    "\n",
    "with open(GEOIDS, 'r') as f:\n",
    "    data = json.load(f)\n",
    "\n",
    "statedict = {}\n",
    "\n",
    "with open(NUM2ABR, 'r') as s:\n",
    "    for line in s:\n",
    "        parts = line.strip().split(maxsplit=1)\n",
    "        if len(parts) == 2:\n",
    "            code, state = parts\n",
    "            statedict[code] = state\n",
    "\n",
    "# print(statedict.keys())\n",
    "# print(df['fipsStateCode'])\n",
    "df['fipsStateCode'] = df['fipsStateCode'].astype(str).map(statedict)\n",
    "df = df.dropna()\n",
    "# print(df['fipsStateCode'])\n",
    "\n",
    "df['fipsStateCode'] = (df['fipsStateCode'] + '-')\n",
    "\n",
    "df['URLS'] = (df['fipsStateCode'].astype(str) + df['fipsCountyCode'].astype(str).str.zfill(3))\n",
    "\n",
    "# print(df['URLS'])\n",
    "\n",
    "# test_url = \"https://www.ncei.noaa.gov/access/monitoring/climate-at-a-glance/county/time-series/TX-059/tavg/1/3/1895-2025/zingchart-config.js\"\n",
    "# r = requests.get(test_url)\n",
    "# print(r.text)\n",
    "\n",
    "records = []\n",
    "base_url = \"https://www.ncei.noaa.gov/access/monitoring/climate-at-a-glance/county/time-series/{code}/tavg/1/3/1895-2025.json\"\n",
    "\n",
    "for code in tqdm(df['URLS']):\n",
    "    temp_url = base_url.replace(\"{code}\", code)\n",
    "    r = requests.get(temp_url)\n",
    "    data = r.json()\n",
    "    for year, entry in data[\"data\"].items():\n",
    "\n",
    "        value = entry.get(\"value\")\n",
    "        if value is not None:\n",
    "            records.append({\n",
    "                \"year\": int(year[0:4]),\n",
    "                \"value\": float(value)\n",
    "            })\n",
    "            time.sleep(0.05)\n",
    "\n",
    "\n",
    "with open(\"county_temperature_data.json\", \"w\") as f:\n",
    "    json.dump(records, f, indent=2)\n",
    "\n",
    "print('done fr')\n",
    "    \n",
    "\n"
   ]
  },
  {
   "cell_type": "code",
   "execution_count": null,
   "metadata": {},
   "outputs": [],
   "source": []
  }
 ],
 "metadata": {
  "kernelspec": {
   "display_name": "Python 3",
   "language": "python",
   "name": "python3"
  },
  "language_info": {
   "codemirror_mode": {
    "name": "ipython",
    "version": 3
   },
   "file_extension": ".py",
   "mimetype": "text/x-python",
   "name": "python",
   "nbconvert_exporter": "python",
   "pygments_lexer": "ipython3",
   "version": "3.13.0"
  }
 },
 "nbformat": 4,
 "nbformat_minor": 2
}
