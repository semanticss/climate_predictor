{
 "cells": [
  {
   "cell_type": "code",
   "execution_count": 1,
   "metadata": {},
   "outputs": [],
   "source": [
    "import cartopy\n",
    "import pandas as pd\n",
    "import cartopy.crs as ccrs\n",
    "import cartopy.feature as cfeature\n",
    "import matplotlib.pyplot as plt\n",
    "from cartopy.feature import ShapelyFeature\n",
    "from cartopy.io.shapereader import Reader\n",
    "import geopandas as gpd\n",
    "\n",
    "shapefile_path = '../data/raw/tl_2024_us_county/tl_2024_us_county.shp'\n",
    "counties = gpd.read_file(shapefile_path)\n",
    "counties = counties.to_crs(epsg=4326)\n",
    "countries_GEOID = counties['GEOID']\n",
    "\n",
    "# minx, miny, maxx, maxy = counties.total_bounds\n",
    "\n",
    "# fig, ax = plt.subplots(figsize=(100,100), subplot_kw={\"projection\": ccrs.PlateCarree()})\n",
    "\n",
    "# counties_feature = ShapelyFeature(Reader(shapefile_path).geometries(), ccrs.PlateCarree())\n",
    "# ax.add_feature(counties_feature, edgecolor=\"black\", facecolor=\"none\", linewidth=0.5)\n",
    "\n",
    "# ax.set_extent([-125,-66.5, 24, 50], crs=ccrs.PlateCarree())\n",
    "\n",
    "# ax.add_feature(cartopy.feature.STATES, edgecolor=\"black\", linewidth=0.5)\n",
    "# # Set title\n",
    "# ax.set_title(\"County-Level Data Visualization\", fontsize=16)\n",
    "\n",
    "# plt.savefig(\"usmap.png\", dpi=150, bbox_inches='tight')\n",
    "# plt.show()"
   ]
  },
  {
   "cell_type": "code",
   "execution_count": null,
   "metadata": {},
   "outputs": [],
   "source": [
    "# import os\n",
    "\n",
    "# data_file = r\"c:\\Users\\huds0\\Desktop\\climate_predictor\\data\\raw\\nasa_surface_1880.txt\"\n",
    "# output_dir = r\"c:\\Users\\huds0\\Desktop\\climate_predictor\\data\\cleaned\"\n",
    "# output_file = os.path.join(output_dir, \"cleaned_nasa_surface_1880.txt\")\n",
    "\n",
    "# years = []\n",
    "# no_smoothing = []\n",
    "\n",
    "# with open(data_file, 'r') as file:\n",
    "#     lines = file.readlines()\n",
    "\n",
    "# for line in lines[5:]:\n",
    "#     parts = line.split()\n",
    "#     if len(parts) >= 2: \n",
    "#         years.append(int(parts[0])) \n",
    "#         no_smoothing.append(float(parts[1]))  \n",
    "\n",
    "# with open(output_file, 'w') as file:\n",
    "#     for year, no_smoothing in zip(years, no_smoothing):\n",
    "#         file.write(f\"{year}\\t{no_smoothing}\\n\")\n"
   ]
  },
  {
   "cell_type": "code",
   "execution_count": 45,
   "metadata": {},
   "outputs": [
    {
     "name": "stdout",
     "output_type": "stream",
     "text": [
      "0       7810\n",
      "1       4167\n",
      "2       4131\n",
      "3       4117\n",
      "4       7820\n",
      "        ... \n",
      "2995    5359\n",
      "2996    5361\n",
      "2997    5363\n",
      "2998     530\n",
      "2999    5315\n",
      "Name: fips, Length: 3000, dtype: object\n"
     ]
    },
    {
     "name": "stderr",
     "output_type": "stream",
     "text": [
      "C:\\Users\\huds0\\AppData\\Local\\Temp\\ipykernel_20868\\2817953867.py:11: DtypeWarning: Columns (21) have mixed types. Specify dtype option on import or set low_memory=False.\n",
      "  df = pd.read_csv(\"../data/raw/DisasterDeclarationsSummaries.csv\")\n"
     ]
    }
   ],
   "source": [
    "import geopandas as gdp\n",
    "import pandas as pd\n",
    "\n",
    "# load county shapefiles\n",
    "\n",
    "shapefile_path = '../data/raw/tl_2024_us_county/tl_2024_us_county.shp'\n",
    "counties = gpd.read_file(shapefile_path)\n",
    "counties = counties.to_crs(epsg=4326)\n",
    "\n",
    "# load disaster declarations\n",
    "df = pd.read_csv(\"../data/raw/DisasterDeclarationsSummaries.csv\")\n",
    "\n",
    "# produce fips code\n",
    "\n",
    "df['fips'] = df['fipsStateCode'].astype(str) + df['fipsCountyCode'].astype(str)\n",
    "\n",
    "\n",
    "\n",
    "print(df['fips'][0:3000])\n",
    "\n",
    "\n",
    "\n",
    "# print(fips)"
   ]
  }
 ],
 "metadata": {
  "kernelspec": {
   "display_name": "Python 3",
   "language": "python",
   "name": "python3"
  },
  "language_info": {
   "codemirror_mode": {
    "name": "ipython",
    "version": 3
   },
   "file_extension": ".py",
   "mimetype": "text/x-python",
   "name": "python",
   "nbconvert_exporter": "python",
   "pygments_lexer": "ipython3",
   "version": "3.13.0"
  }
 },
 "nbformat": 4,
 "nbformat_minor": 2
}
