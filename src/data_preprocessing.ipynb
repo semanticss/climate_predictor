{
 "cells": [
  {
   "cell_type": "code",
   "execution_count": null,
   "metadata": {},
   "outputs": [
    {
     "name": "stderr",
     "output_type": "stream",
     "text": [
      "C:\\Users\\huds0\\AppData\\Local\\Temp\\ipykernel_10736\\706002477.py:15: DtypeWarning: Columns (21) have mixed types. Specify dtype option on import or set low_memory=False.\n",
      "  df = pd.read_csv(\"../data/raw/DisasterDeclarationsSummaries.csv\")\n"
     ]
    },
    {
     "name": "stdout",
     "output_type": "stream",
     "text": [
      "{'description': {'title': 'Lincoln County, West Virginia March Average Temperature', 'missing': -99, 'units': 'Degrees Fahrenheit'}, 'data': {'189503': {'value': 42.8}, '189603': {'value': 38.5}, '189703': {'value': 47.6}, '189803': {'value': 48.8}, '189903': {'value': 44.5}, '190003': {'value': 42.4}, '190103': {'value': 45.8}, '190203': {'value': 46.2}, '190303': {'value': 53.8}, '190403': {'value': 47}, '190503': {'value': 51.7}, '190603': {'value': 40}, '190703': {'value': 53.4}, '190803': {'value': 51.4}, '190903': {'value': 43.6}, '191003': {'value': 52.6}, '191103': {'value': 45.6}, '191203': {'value': 42.3}, '191303': {'value': 46.7}, '191403': {'value': 40.9}, '191503': {'value': 37.1}, '191603': {'value': 42.7}, '191703': {'value': 45.2}, '191803': {'value': 49.9}, '191903': {'value': 47.1}, '192003': {'value': 43.7}, '192103': {'value': 55.4}, '192203': {'value': 47.3}, '192303': {'value': 45.4}, '192403': {'value': 41.4}, '192503': {'value': 47.1}, '192603': {'value': 37.4}, '192703': {'value': 46.7}, '192803': {'value': 43.6}, '192903': {'value': 47.9}, '193003': {'value': 42.7}, '193103': {'value': 38.6}, '193203': {'value': 38.6}, '193303': {'value': 43.4}, '193403': {'value': 41.4}, '193503': {'value': 51}, '193603': {'value': 47.8}, '193703': {'value': 39.6}, '193803': {'value': 49.7}, '193903': {'value': 46.7}, '194003': {'value': 41}, '194103': {'value': 36.4}, '194203': {'value': 45.8}, '194303': {'value': 40.7}, '194403': {'value': 42}, '194503': {'value': 53.6}, '194603': {'value': 52}, '194703': {'value': 35.5}, '194803': {'value': 49}, '194903': {'value': 44.1}, '195003': {'value': 40.9}, '195103': {'value': 44.6}, '195203': {'value': 43}, '195303': {'value': 46.5}, '195403': {'value': 42.2}, '195503': {'value': 46.8}, '195603': {'value': 43.2}, '195703': {'value': 43.2}, '195803': {'value': 39.9}, '195903': {'value': 41.8}, '196003': {'value': 32.2}, '196103': {'value': 47.7}, '196203': {'value': 42.2}, '196303': {'value': 47.8}, '196403': {'value': 44.2}, '196503': {'value': 40.3}, '196603': {'value': 45.6}, '196703': {'value': 48.1}, '196803': {'value': 45.1}, '196903': {'value': 38}, '197003': {'value': 41.5}, '197103': {'value': 39.5}, '197203': {'value': 43.1}, '197303': {'value': 52.3}, '197403': {'value': 48.3}, '197503': {'value': 41.3}, '197603': {'value': 50.2}, '197703': {'value': 48}, '197803': {'value': 41.5}, '197903': {'value': 46.5}, '198003': {'value': 41}, '198103': {'value': 40.9}, '198203': {'value': 46.4}, '198303': {'value': 46.2}, '198403': {'value': 40.1}, '198503': {'value': 46.8}, '198603': {'value': 44.5}, '198703': {'value': 46.2}, '198803': {'value': 44.8}, '198903': {'value': 47.7}, '199003': {'value': 49.2}, '199103': {'value': 47.4}, '199203': {'value': 44.2}, '199303': {'value': 40.6}, '199403': {'value': 44.1}, '199503': {'value': 47.3}, '199603': {'value': 39.6}, '199703': {'value': 48.2}, '199803': {'value': 46.2}, '199903': {'value': 40.4}, '200003': {'value': 49.8}, '200103': {'value': 40.8}, '200203': {'value': 46.1}, '200303': {'value': 48.9}, '200403': {'value': 48.5}, '200503': {'value': 41.2}, '200603': {'value': 44.2}, '200703': {'value': 50.7}, '200803': {'value': 45.3}, '200903': {'value': 47.6}, '201003': {'value': 46.6}, '201103': {'value': 46.6}, '201203': {'value': 57}, '201303': {'value': 39.7}, '201403': {'value': 40.7}, '201503': {'value': 44}, '201603': {'value': 52.1}, '201703': {'value': 46.1}, '201803': {'value': 42.4}, '201903': {'value': 43.6}, '202003': {'value': 51.1}, '202103': {'value': 49.2}, '202203': {'value': 48.2}, '202303': {'value': 46.7}, '202403': {'value': 50.1}, '202503': {'value': 48.8}}}\n"
     ]
    },
    {
     "name": "stderr",
     "output_type": "stream",
     "text": [
      "  8%|▊         | 229/2766 [01:54<13:57,  3.03it/s]"
     ]
    },
    {
     "name": "stdout",
     "output_type": "stream",
     "text": [
      "L response --> MN-000: 404\n"
     ]
    },
    {
     "name": "stderr",
     "output_type": "stream",
     "text": [
      "  8%|▊         | 230/2766 [01:54<13:55,  3.04it/s]"
     ]
    },
    {
     "name": "stdout",
     "output_type": "stream",
     "text": [
      "L response --> MN-000: 404\n"
     ]
    },
    {
     "name": "stderr",
     "output_type": "stream",
     "text": [
      " 22%|██▏       | 620/2766 [05:07<13:20,  2.68it/s]"
     ]
    },
    {
     "name": "stdout",
     "output_type": "stream",
     "text": [
      "L response --> TN-000: 404\n"
     ]
    },
    {
     "name": "stderr",
     "output_type": "stream",
     "text": [
      " 22%|██▏       | 621/2766 [05:08<13:52,  2.58it/s]"
     ]
    },
    {
     "name": "stdout",
     "output_type": "stream",
     "text": [
      "L response --> TN-000: 404\n"
     ]
    },
    {
     "name": "stderr",
     "output_type": "stream",
     "text": [
      " 22%|██▏       | 622/2766 [05:08<14:00,  2.55it/s]"
     ]
    },
    {
     "name": "stdout",
     "output_type": "stream",
     "text": [
      "L response --> TN-000: 404\n"
     ]
    },
    {
     "name": "stderr",
     "output_type": "stream",
     "text": [
      " 49%|████▉     | 1356/2766 [10:45<12:21,  1.90it/s]"
     ]
    },
    {
     "name": "stdout",
     "output_type": "stream",
     "text": [
      "L response --> IN-000: 404\n"
     ]
    },
    {
     "name": "stderr",
     "output_type": "stream",
     "text": [
      " 55%|█████▍    | 1511/2766 [12:08<10:19,  2.03it/s]"
     ]
    },
    {
     "name": "stdout",
     "output_type": "stream",
     "text": [
      "L response --> VA-515: 404\n"
     ]
    },
    {
     "name": "stderr",
     "output_type": "stream",
     "text": [
      " 63%|██████▎   | 1755/2766 [14:05<11:42,  1.44it/s]"
     ]
    },
    {
     "name": "stdout",
     "output_type": "stream",
     "text": [
      "L response --> ND-000: 404\n"
     ]
    },
    {
     "name": "stderr",
     "output_type": "stream",
     "text": [
      " 64%|██████▍   | 1768/2766 [14:11<08:21,  1.99it/s]"
     ]
    },
    {
     "name": "stdout",
     "output_type": "stream",
     "text": [
      "L response --> ND-000: 404\n"
     ]
    },
    {
     "name": "stderr",
     "output_type": "stream",
     "text": [
      " 64%|██████▍   | 1769/2766 [14:12<09:18,  1.78it/s]"
     ]
    },
    {
     "name": "stdout",
     "output_type": "stream",
     "text": [
      "L response --> ND-000: 404\n"
     ]
    },
    {
     "name": "stderr",
     "output_type": "stream",
     "text": [
      " 65%|██████▌   | 1807/2766 [14:33<06:15,  2.55it/s]"
     ]
    },
    {
     "name": "stdout",
     "output_type": "stream",
     "text": [
      "L response --> MN-000: 404\n"
     ]
    },
    {
     "name": "stderr",
     "output_type": "stream",
     "text": [
      " 71%|███████   | 1955/2766 [15:56<06:26,  2.10it/s]"
     ]
    },
    {
     "name": "stdout",
     "output_type": "stream",
     "text": [
      "L response --> TN-000: 404\n"
     ]
    },
    {
     "name": "stderr",
     "output_type": "stream",
     "text": [
      " 74%|███████▍  | 2052/2766 [16:48<06:17,  1.89it/s]"
     ]
    },
    {
     "name": "stdout",
     "output_type": "stream",
     "text": [
      "L response --> TX-000: 404\n"
     ]
    },
    {
     "name": "stderr",
     "output_type": "stream",
     "text": [
      " 74%|███████▍  | 2053/2766 [16:48<05:47,  2.05it/s]"
     ]
    },
    {
     "name": "stdout",
     "output_type": "stream",
     "text": [
      "L response --> TX-000: 404\n"
     ]
    },
    {
     "name": "stderr",
     "output_type": "stream",
     "text": [
      " 74%|███████▍  | 2054/2766 [16:49<05:49,  2.04it/s]"
     ]
    },
    {
     "name": "stdout",
     "output_type": "stream",
     "text": [
      "L response --> TX-000: 404\n"
     ]
    },
    {
     "name": "stderr",
     "output_type": "stream",
     "text": [
      " 93%|█████████▎| 2578/2766 [21:28<01:01,  3.05it/s]"
     ]
    },
    {
     "name": "stdout",
     "output_type": "stream",
     "text": [
      "L response --> DC-001: 404\n"
     ]
    },
    {
     "name": "stderr",
     "output_type": "stream",
     "text": [
      " 94%|█████████▍| 2603/2766 [21:36<00:50,  3.25it/s]"
     ]
    },
    {
     "name": "stdout",
     "output_type": "stream",
     "text": [
      "L response --> MN-000: 404\n"
     ]
    },
    {
     "name": "stderr",
     "output_type": "stream",
     "text": [
      " 94%|█████████▍| 2604/2766 [21:36<00:50,  3.23it/s]"
     ]
    },
    {
     "name": "stdout",
     "output_type": "stream",
     "text": [
      "L response --> MN-000: 404\n"
     ]
    },
    {
     "name": "stderr",
     "output_type": "stream",
     "text": [
      " 95%|█████████▍| 2614/2766 [21:39<00:45,  3.36it/s]"
     ]
    },
    {
     "name": "stdout",
     "output_type": "stream",
     "text": [
      "L response --> MN-000: 404\n"
     ]
    },
    {
     "name": "stderr",
     "output_type": "stream",
     "text": [
      " 95%|█████████▍| 2620/2766 [21:41<00:43,  3.34it/s]"
     ]
    },
    {
     "name": "stdout",
     "output_type": "stream",
     "text": [
      "L response --> MN-000: 404\n"
     ]
    },
    {
     "name": "stderr",
     "output_type": "stream",
     "text": [
      " 96%|█████████▌| 2642/2766 [21:47<00:34,  3.55it/s]"
     ]
    },
    {
     "name": "stdout",
     "output_type": "stream",
     "text": [
      "L response --> MN-000: 404\n"
     ]
    },
    {
     "name": "stderr",
     "output_type": "stream",
     "text": [
      " 96%|█████████▌| 2643/2766 [21:47<00:36,  3.33it/s]"
     ]
    },
    {
     "name": "stdout",
     "output_type": "stream",
     "text": [
      "L response --> MN-000: 404\n"
     ]
    },
    {
     "name": "stderr",
     "output_type": "stream",
     "text": [
      " 98%|█████████▊| 2722/2766 [22:11<00:17,  2.51it/s]"
     ]
    },
    {
     "name": "stdout",
     "output_type": "stream",
     "text": [
      "L response --> ND-000: 404\n"
     ]
    },
    {
     "name": "stderr",
     "output_type": "stream",
     "text": [
      " 99%|█████████▊| 2730/2766 [22:13<00:11,  3.27it/s]"
     ]
    },
    {
     "name": "stdout",
     "output_type": "stream",
     "text": [
      "L response --> ND-000: 404\n"
     ]
    },
    {
     "name": "stderr",
     "output_type": "stream",
     "text": [
      " 99%|█████████▊| 2731/2766 [22:13<00:10,  3.24it/s]"
     ]
    },
    {
     "name": "stdout",
     "output_type": "stream",
     "text": [
      "L response --> ND-000: 404\n"
     ]
    },
    {
     "name": "stderr",
     "output_type": "stream",
     "text": [
      "100%|██████████| 2766/2766 [22:26<00:00,  2.05it/s]\n"
     ]
    },
    {
     "name": "stdout",
     "output_type": "stream",
     "text": [
      "done fr\n"
     ]
    }
   ],
   "source": [
    "# import geopandas as gpd\n",
    "# import pandas as pd\n",
    "# import json\n",
    "# import requests\n",
    "# import time\n",
    "# from tqdm import tqdm\n",
    "\n",
    "# # load county shapefiles\n",
    "\n",
    "# shapefile_path = '../data/raw/tl_2024_us_county/tl_2024_us_county.shp'\n",
    "# counties = gpd.read_file(shapefile_path)\n",
    "# counties = counties.to_crs(epsg=4326)\n",
    "\n",
    "# # load disaster declarations\n",
    "# df = pd.read_csv(\"../data/raw/DisasterDeclarationsSummaries.csv\")\n",
    "\n",
    "# df[\"GEOID\"] = df[\"fipsStateCode\"].astype(str).str.zfill(2) + df[\"fipsCountyCode\"].astype(str).str.zfill(3)\n",
    "\n",
    "# GEOIDS = \"../data/cleaned/county_disaster_counts_by_year.json\"\n",
    "\n",
    "# NUM2ABR = \"../data/raw/num2abr.txt\"\n",
    "\n",
    "\n",
    "# with open(GEOIDS, 'r') as f:\n",
    "#     data = json.load(f)\n",
    "\n",
    "# statedict = {}\n",
    "\n",
    "# with open(NUM2ABR, 'r') as s:\n",
    "#     for line in s:\n",
    "#         parts = line.strip().split(maxsplit=1)\n",
    "#         if len(parts) == 2:\n",
    "#             code, state = parts\n",
    "#             statedict[code] = state\n",
    "\n",
    "# # print(statedict.keys())\n",
    "# # print(df['fipsStateCode'])\n",
    "# df['fipsStateCode'] = df['fipsStateCode'].astype(str).map(statedict)\n",
    "# df = df.dropna()\n",
    "# # print(df['fipsStateCode'])\n",
    "\n",
    "# df['fipsStateCode'] = (df['fipsStateCode'] + '-')\n",
    "\n",
    "# df['URLS'] = (df['fipsStateCode'].astype(str) + df['fipsCountyCode'].astype(str).str.zfill(3))\n",
    "\n",
    "# # print(df['URLS'])\n",
    "\n",
    "# # test_url = \"https://www.ncei.noaa.gov/access/monitoring/climate-at-a-glance/county/time-series/TX-059/tavg/1/3/1895-2025/zingchart-config.js\"\n",
    "# # r = requests.get(test_url)\n",
    "# # print(r.text)\n",
    "\n",
    "# records = []\n",
    "# base_url = \"https://www.ncei.noaa.gov/access/monitoring/climate-at-a-glance/county/time-series/{code}/tavg/1/3/1895-2025.json\"\n",
    "\n",
    "# r = requests.get(\"https://www.ncei.noaa.gov/access/monitoring/climate-at-a-glance/county/time-series/WV-043/tavg/1/3/1895-2025.json\")\n",
    "# data = r.json()\n",
    "# print(data)\n",
    "\n",
    "# for code in tqdm(df['URLS']):\n",
    "#     temp_url = base_url.replace(\"{code}\", code)\n",
    "#     r = requests.get(temp_url)\n",
    "\n",
    "#     if r.status_code != 200:\n",
    "#         print(f\"L response --> {code}: {r.status_code}\")\n",
    "#         continue  # Skip this one if response isn't OK\n",
    "\n",
    "#     try:\n",
    "#         data = r.json()\n",
    "#     except json.JSONDecodeError:\n",
    "#         print(f\"fucked up json --> {code}\")\n",
    "#         continue\n",
    "\n",
    "#     county_entry = {\n",
    "#         \"County Code\": code,\n",
    "#         \"County Name\": data[\"description\"][\"title\"].split(',', 1)[0],\n",
    "#         \"data\": {}\n",
    "#     }\n",
    "#     for year_month, entry in data[\"data\"].items():\n",
    "#         year = year_month[:4]\n",
    "#         value = entry.get(\"value\")\n",
    "#         if value is not None:\n",
    "#             county_entry[\"data\"][year] = value\n",
    "\n",
    "#     records.append(county_entry)\n",
    "\n",
    "\n",
    "# with open(\"county_temperature_data.json\", \"w\") as f:\n",
    "#     json.dump(records, f, indent=2)\n",
    "\n",
    "# print('done fr')\n",
    "    \n",
    "\n"
   ]
  },
  {
   "cell_type": "code",
   "execution_count": null,
   "metadata": {},
   "outputs": [],
   "source": []
  }
 ],
 "metadata": {
  "kernelspec": {
   "display_name": "Python 3",
   "language": "python",
   "name": "python3"
  },
  "language_info": {
   "codemirror_mode": {
    "name": "ipython",
    "version": 3
   },
   "file_extension": ".py",
   "mimetype": "text/x-python",
   "name": "python",
   "nbconvert_exporter": "python",
   "pygments_lexer": "ipython3",
   "version": "3.13.0"
  }
 },
 "nbformat": 4,
 "nbformat_minor": 2
}
